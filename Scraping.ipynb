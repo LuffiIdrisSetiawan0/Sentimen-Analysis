{
 "cells": [
  {
   "cell_type": "code",
   "execution_count": 10,
   "id": "bd5e03d9-ed28-47ad-8e7d-af94de8daa7c",
   "metadata": {},
   "outputs": [
    {
     "name": "stdout",
     "output_type": "stream",
     "text": [
      "Total ulasan yang diambil: 25000\n",
      "                        komentar  rating             tanggal  \\\n",
      "11446            Mudah digunakan       5 2025-02-09 08:44:47   \n",
      "24007  Aplikasi exchange terbaik       5 2024-08-17 16:11:21   \n",
      "7963           mantap terpercaya       5 2025-03-25 22:32:50   \n",
      "13402   Top apk cripto bagi saya       5 2025-01-06 20:51:39   \n",
      "22881             stacking mudah       5 2024-09-02 16:09:01   \n",
      "\n",
      "                 pengguna  \n",
      "11446         Gian Argian  \n",
      "24007  Danang Dwi Saputra  \n",
      "7963     Melvin Damanhuri  \n",
      "13402        Cengkok Saja  \n",
      "22881               Ahmad  \n"
     ]
    }
   ],
   "source": [
    "from google_play_scraper import Sort, reviews\n",
    "import pandas as pd\n",
    "\n",
    "# Ambil ulasan dari aplikasi Indodax\n",
    "all_reviews = []\n",
    "token = None\n",
    "\n",
    "while True:\n",
    "    result, token = reviews(\n",
    "        'id.co.bitcoin',         # ID aplikasi Indodax di Google Play Store\n",
    "        lang='id',               # Bahasa Indonesia\n",
    "        country='id',            # Wilayah Indonesia\n",
    "        sort=Sort.NEWEST,        # Review terbaru dulu\n",
    "        count=200,               # Ambil 200 review per batch (maksimal 200 per call)\n",
    "        continuation_token=token # Gunakan token untuk melanjutkan scraping\n",
    "    )\n",
    "    \n",
    "    all_reviews.extend(result)\n",
    "    \n",
    "    # Stop jika sudah cukup atau tidak ada token berikutnya\n",
    "    if token is None or len(all_reviews) >= 25000:\n",
    "        break\n",
    "\n",
    "print(f\"Total ulasan yang diambil: {len(all_reviews)}\")\n",
    "\n",
    "# Simpan ke DataFrame\n",
    "df = pd.DataFrame(all_reviews)\n",
    "\n",
    "# Pilih kolom penting\n",
    "df = df[['content', 'score', 'at', 'userName']]\n",
    "df.columns = ['komentar', 'rating', 'tanggal', 'pengguna']\n",
    "\n",
    "# Buang review kosong\n",
    "df = df[df['komentar'].str.strip() != '']\n",
    "\n",
    "# Simpan ke CSV\n",
    "df.to_csv(\"indodax_reviews.csv\", index=False, encoding='utf-8-sig')\n",
    "\n",
    "# Tampilkan sampel\n",
    "print(df.sample(5))"
   ]
  },
  {
   "cell_type": "code",
   "execution_count": null,
   "id": "ce37b9ed-22a6-4d71-95c6-7d1a62083873",
   "metadata": {},
   "outputs": [],
   "source": []
  }
 ],
 "metadata": {
  "kernelspec": {
   "display_name": "Python [conda env:base] *",
   "language": "python",
   "name": "conda-base-py"
  },
  "language_info": {
   "codemirror_mode": {
    "name": "ipython",
    "version": 3
   },
   "file_extension": ".py",
   "mimetype": "text/x-python",
   "name": "python",
   "nbconvert_exporter": "python",
   "pygments_lexer": "ipython3",
   "version": "3.12.7"
  }
 },
 "nbformat": 4,
 "nbformat_minor": 5
}
