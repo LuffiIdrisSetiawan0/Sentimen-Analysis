{
 "cells": [
  {
   "cell_type": "markdown",
   "id": "4dc05501-6325-440a-971c-ecbb42e517e6",
   "metadata": {},
   "source": [
    "# 1. Load dan Labelling"
   ]
  },
  {
   "cell_type": "code",
   "execution_count": 2,
   "id": "318b2c85-90ea-41b1-9d84-35f43b9faabb",
   "metadata": {},
   "outputs": [
    {
     "name": "stdout",
     "output_type": "stream",
     "text": [
      "label\n",
      "positif    22296\n",
      "negatif     2225\n",
      "netral       479\n",
      "Name: count, dtype: int64\n"
     ]
    }
   ],
   "source": [
    "import pandas as pd\n",
    "\n",
    "# Load dataset hasil scraping\n",
    "df = pd.read_csv(\"indodax_reviews.csv\")\n",
    "\n",
    "# Buang komentar kosong\n",
    "df = df[df['komentar'].str.strip() != '']\n",
    "\n",
    "# Fungsi pelabelan berdasarkan rating\n",
    "def beri_label(score):\n",
    "    if score <= 2:\n",
    "        return 'negatif'\n",
    "    elif score == 3:\n",
    "        return 'netral'\n",
    "    else:\n",
    "        return 'positif'\n",
    "\n",
    "# Buat kolom label\n",
    "df['label'] = df['rating'].apply(beri_label)\n",
    "\n",
    "# Tampilkan distribusi awal label\n",
    "print(df['label'].value_counts())\n"
   ]
  },
  {
   "cell_type": "markdown",
   "id": "c2d836d7-2a5b-4004-9bc5-9229d44bb767",
   "metadata": {},
   "source": [
    "# 2. Text Cleaning + Normalization"
   ]
  },
  {
   "cell_type": "code",
   "execution_count": 4,
   "id": "435f3a95-6bdd-4682-aeb3-69b697137e23",
   "metadata": {},
   "outputs": [
    {
     "name": "stdout",
     "output_type": "stream",
     "text": [
      "                                                komentar  \\\n",
      "15495  Aplikasi sudah ok bgt..jelas..enak digunakan.....   \n",
      "1619             sedikit sedikit lama lama menjadi bukit   \n",
      "11522    Good and easy to install ...succses for Indodax   \n",
      "4254                                    Baru Update lagi   \n",
      "12003      Tolong turunkan minimal withdraw menjadi 0,01   \n",
      "\n",
      "                                         komentar_bersih  \n",
      "15495  aplikasi sudah ok bgtjelasenak digunakansmoga ...  \n",
      "1619             sedikit sedikit lama lama menjadi bukit  \n",
      "11522       good and easy to install succses for indodax  \n",
      "4254                                    baru update lagi  \n",
      "12003           tolong turunkan minimal withdraw menjadi  \n"
     ]
    }
   ],
   "source": [
    "import re\n",
    "\n",
    "def bersihkan_teks(teks):\n",
    "    teks = str(teks).lower()                          # Lowercase\n",
    "    teks = re.sub(r'http\\S+|www.\\S+', '', teks)       # Hapus URL\n",
    "    teks = re.sub(r'<.*?>', '', teks)                 # Hapus HTML tag\n",
    "    teks = re.sub(r'[^a-zA-Z\\s]', '', teks)           # Hapus simbol dan angka\n",
    "    teks = re.sub(r'\\s+', ' ', teks).strip()          # Hapus spasi berlebih\n",
    "    return teks\n",
    "\n",
    "df['komentar_bersih'] = df['komentar'].apply(bersihkan_teks)\n",
    "\n",
    "# Cek sampel\n",
    "print(df[['komentar', 'komentar_bersih']].sample(5))\n"
   ]
  },
  {
   "cell_type": "markdown",
   "id": "8c722494-ba14-428d-a31a-e0beb1323543",
   "metadata": {},
   "source": [
    "# 3. Rebalancing Dataset (Undersample & Oversample)"
   ]
  },
  {
   "cell_type": "code",
   "execution_count": 6,
   "id": "eb097cea-8e13-4b11-b7aa-0f478f56744d",
   "metadata": {},
   "outputs": [
    {
     "name": "stdout",
     "output_type": "stream",
     "text": [
      "label\n",
      "negatif    6675\n",
      "positif    5000\n",
      "netral     4790\n",
      "Name: count, dtype: int64\n"
     ]
    }
   ],
   "source": [
    "# Pisahkan per kelas\n",
    "positif = df[df['label'] == 'positif']\n",
    "negatif = df[df['label'] == 'negatif']\n",
    "netral  = df[df['label'] == 'netral']\n",
    "\n",
    "# Undersample positif (ambil sebagian)\n",
    "positif_sampled = positif.sample(n=5000, random_state=42)\n",
    "\n",
    "# Oversample negatif dan netral dengan duplikasi\n",
    "negatif_oversampled = pd.concat([negatif] * 3, ignore_index=True)  \n",
    "netral_oversampled  = pd.concat([netral] * 10, ignore_index=True)   \n",
    "\n",
    "# Gabungkan semua\n",
    "df_seimbang = pd.concat([positif_sampled, negatif_oversampled, netral_oversampled], ignore_index=True)\n",
    "\n",
    "# Shuffle agar acak\n",
    "df_seimbang = df_seimbang.sample(frac=1, random_state=42).reset_index(drop=True)\n",
    "\n",
    "# Cek hasil\n",
    "print(df_seimbang['label'].value_counts())\n"
   ]
  },
  {
   "cell_type": "markdown",
   "id": "f1aa4325-f556-4357-baa3-401862897713",
   "metadata": {},
   "source": [
    "# 4. Ekstraksi Fitur TF-IDF + Split Data Training/Testing"
   ]
  },
  {
   "cell_type": "code",
   "execution_count": 8,
   "id": "df3b9ac5-05cc-465f-80a2-80b2b9b404d7",
   "metadata": {},
   "outputs": [
    {
     "name": "stdout",
     "output_type": "stream",
     "text": [
      "Jumlah data latih : 13172\n",
      "Jumlah data uji   : 3293\n"
     ]
    }
   ],
   "source": [
    "from sklearn.feature_extraction.text import TfidfVectorizer\n",
    "from sklearn.model_selection import train_test_split\n",
    "\n",
    "# Inisialisasi TF-IDF Vectorizer\n",
    "vectorizer = TfidfVectorizer(max_features=5000)\n",
    "\n",
    "# Transformasi komentar bersih ke dalam bentuk numerik\n",
    "X = vectorizer.fit_transform(df_seimbang['komentar_bersih'])\n",
    "\n",
    "# Label target\n",
    "y = df_seimbang['label']\n",
    "\n",
    "# Split data (80% training, 20% testing)\n",
    "X_train, X_test, y_train, y_test = train_test_split(\n",
    "    X, y, test_size=0.2, random_state=42, stratify=y\n",
    ")\n",
    "\n",
    "# Cek jumlah data\n",
    "print(f\"Jumlah data latih : {X_train.shape[0]}\")\n",
    "print(f\"Jumlah data uji   : {X_test.shape[0]}\")\n"
   ]
  },
  {
   "cell_type": "markdown",
   "id": "2413ef96-47ef-41b4-906a-33789b90ad7a",
   "metadata": {},
   "source": [
    "# 5. Modelling"
   ]
  },
  {
   "cell_type": "code",
   "execution_count": 10,
   "id": "b85b392b-f6a2-463f-b99c-c573b168b018",
   "metadata": {},
   "outputs": [],
   "source": [
    "from sklearn.linear_model import LogisticRegression\n",
    "\n",
    "# Inisialisasi model\n",
    "model = LogisticRegression(max_iter=1000)\n",
    "\n",
    "# Latih model dengan data training\n",
    "model.fit(X_train, y_train)\n",
    "\n",
    "# Prediksi pada data testing\n",
    "y_pred = model.predict(X_test)\n"
   ]
  },
  {
   "cell_type": "markdown",
   "id": "e978dd6a-b57c-45ba-b8fd-b251514d723c",
   "metadata": {},
   "source": [
    "# 6. Evaluation"
   ]
  },
  {
   "cell_type": "code",
   "execution_count": 12,
   "id": "e04a6f93-599c-450a-aa6f-86a064416645",
   "metadata": {},
   "outputs": [
    {
     "name": "stdout",
     "output_type": "stream",
     "text": [
      "Akurasi Model: 0.9159\n",
      "\n",
      "Classification Report:\n",
      "\n",
      "              precision    recall  f1-score   support\n",
      "\n",
      "     negatif       0.91      0.92      0.92      1335\n",
      "      netral       0.89      0.92      0.91       958\n",
      "     positif       0.95      0.90      0.92      1000\n",
      "\n",
      "    accuracy                           0.92      3293\n",
      "   macro avg       0.92      0.92      0.92      3293\n",
      "weighted avg       0.92      0.92      0.92      3293\n",
      "\n"
     ]
    },
    {
     "data": {
      "image/png": "[encoded data removed]",
      "text/plain": [
       "<Figure size 600x400 with 2 Axes>"
      ]
     },
     "metadata": {},
     "output_type": "display_data"
    }
   ],
   "source": [
    "from sklearn.metrics import accuracy_score, classification_report, confusion_matrix\n",
    "import seaborn as sns\n",
    "import matplotlib.pyplot as plt\n",
    "\n",
    "# Hitung akurasi\n",
    "akurasi = accuracy_score(y_test, y_pred)\n",
    "print(f\"Akurasi Model: {akurasi:.4f}\")\n",
    "\n",
    "# Classification report\n",
    "print(\"\\nClassification Report:\\n\")\n",
    "print(classification_report(y_test, y_pred))\n",
    "\n",
    "# Confusion matrix\n",
    "cm = confusion_matrix(y_test, y_pred, labels=model.classes_)\n",
    "\n",
    "# Visualisasi Confusion Matrix\n",
    "plt.figure(figsize=(6, 4))\n",
    "sns.heatmap(cm, annot=True, fmt='d', cmap='Blues',\n",
    "            xticklabels=model.classes_,\n",
    "            yticklabels=model.classes_)\n",
    "plt.xlabel(\"Predicted\")\n",
    "plt.ylabel(\"Actual\")\n",
    "plt.title(\"Confusion Matrix\")\n",
    "plt.show()\n"
   ]
  },
  {
   "cell_type": "markdown",
   "id": "c414f09b-2d66-4f4a-af9b-6267e6fe7c01",
   "metadata": {},
   "source": [
    "# 7. Inference "
   ]
  },
  {
   "cell_type": "code",
   "execution_count": 66,
   "id": "9d36c602-bfbe-460f-a819-580a5a9a1315",
   "metadata": {},
   "outputs": [
    {
     "name": "stdout",
     "output_type": "stream",
     "text": [
      "negatif\n",
      "positif\n",
      "netral\n"
     ]
    }
   ],
   "source": [
    "# Fungsi prediksi komentar baru\n",
    "def prediksi_sentimen(teks):\n",
    "    # Bersihkan komentar seperti sebelumnya\n",
    "    def bersihkan_teks(teks):\n",
    "        teks = str(teks).lower()\n",
    "        teks = re.sub(r'http\\S+|www.\\S+', '', teks)\n",
    "        teks = re.sub(r'<.*?>', '', teks)\n",
    "        teks = re.sub(r'[^a-zA-Z\\s]', '', teks)\n",
    "        teks = re.sub(r'\\s+', ' ', teks).strip()\n",
    "        return teks\n",
    "\n",
    "    # Proses\n",
    "    teks_bersih = bersihkan_teks(teks)\n",
    "    tfidf = vectorizer.transform([teks_bersih])\n",
    "    hasil = model.predict(tfidf)[0]\n",
    "    return hasil\n",
    "\n",
    "\n",
    "print(prediksi_sentimen(\"Aplikasi ini sangat lambat dan tidak berguna\"))\n",
    "print(prediksi_sentimen(\"Fitur-fiturnya lengkap dan sangat membantu\"))\n",
    "print(prediksi_sentimen(\"kurang lebih oke lah\"))\n"
   ]
  },
  {
   "cell_type": "code",
   "execution_count": null,
   "id": "75d73a60-c438-43e8-89bf-acdf2e402c3a",
   "metadata": {},
   "outputs": [],
   "source": []
  }
 ],
 "metadata": {
  "kernelspec": {
   "display_name": "Python [conda env:base] *",
   "language": "python",
   "name": "conda-base-py"
  },
  "language_info": {
   "codemirror_mode": {
    "name": "ipython",
    "version": 3
   },
   "file_extension": ".py",
   "mimetype": "text/x-python",
   "name": "python",
   "nbconvert_exporter": "python",
   "pygments_lexer": "ipython3",
   "version": "3.12.7"
  }
 },
 "nbformat": 4,
 "nbformat_minor": 5
}
